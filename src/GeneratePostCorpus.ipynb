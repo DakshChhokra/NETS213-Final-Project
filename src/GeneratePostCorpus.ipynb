{
  "nbformat": 4,
  "nbformat_minor": 0,
  "metadata": {
    "colab": {
      "name": "GeneratePostCorpus",
      "provenance": []
    },
    "kernelspec": {
      "name": "python3",
      "display_name": "Python 3"
    },
    "language_info": {
      "name": "python"
    }
  },
  "cells": [
    {
      "cell_type": "code",
      "metadata": {
        "id": "VBNPNF4S4-1r"
      },
      "source": [
        "import pandas as pd\n",
        "import glob"
      ],
      "execution_count": 105,
      "outputs": []
    },
    {
      "cell_type": "code",
      "metadata": {
        "colab": {
          "base_uri": "https://localhost:8080/"
        },
        "id": "_424W8L66kb1",
        "outputId": "d2c22880-d35b-47b6-eae4-0375aac5f5c5"
      },
      "source": [
        "!wget https://danielng.org/nets213/PRAWScrapings.zip"
      ],
      "execution_count": 106,
      "outputs": [
        {
          "output_type": "stream",
          "text": [
            "--2021-04-30 23:32:02--  https://danielng.org/nets213/PRAWScrapings.zip\n",
            "Resolving danielng.org (danielng.org)... 99.84.253.83, 99.84.253.57, 99.84.253.70, ...\n",
            "Connecting to danielng.org (danielng.org)|99.84.253.83|:443... connected.\n",
            "HTTP request sent, awaiting response... 200 OK\n",
            "Length: 65381892 (62M) [application/zip]\n",
            "Saving to: ‘PRAWScrapings.zip.2’\n",
            "\n",
            "PRAWScrapings.zip.2 100%[===================>]  62.35M   147MB/s    in 0.4s    \n",
            "\n",
            "2021-04-30 23:32:03 (147 MB/s) - ‘PRAWScrapings.zip.2’ saved [65381892/65381892]\n",
            "\n"
          ],
          "name": "stdout"
        }
      ]
    },
    {
      "cell_type": "code",
      "metadata": {
        "id": "uGdd3F346yQh"
      },
      "source": [
        "! unzip -o PRAWScrapings.zip 1>/dev/null\n",
        "# ! mv /content/hw8_2021sp/* /content/"
      ],
      "execution_count": 107,
      "outputs": []
    },
    {
      "cell_type": "code",
      "metadata": {
        "colab": {
          "base_uri": "https://localhost:8080/"
        },
        "id": "MbIznleW9VPH",
        "outputId": "ba602bd5-9509-42d1-9e8a-0f3f0c711636"
      },
      "source": [
        "!rm -r /content/sample_data"
      ],
      "execution_count": 108,
      "outputs": [
        {
          "output_type": "stream",
          "text": [
            "rm: cannot remove '/content/sample_data': No such file or directory\n"
          ],
          "name": "stdout"
        }
      ]
    },
    {
      "cell_type": "code",
      "metadata": {
        "id": "WHxeietA7W9q"
      },
      "source": [
        "posts = pd.read_csv(\"/content/17-07-2020/AITA_year17-07-2020_.csv\")\n",
        "posts2 = pd.read_csv(\"/content/29-06-2020/AITA_day_year29-06-2020_.csv\")"
      ],
      "execution_count": 109,
      "outputs": []
    },
    {
      "cell_type": "code",
      "metadata": {
        "id": "7SUeiH7_9esl"
      },
      "source": [
        "mergedDf = pd.DataFrame()"
      ],
      "execution_count": 110,
      "outputs": []
    },
    {
      "cell_type": "code",
      "metadata": {
        "colab": {
          "base_uri": "https://localhost:8080/"
        },
        "id": "fJbQLQmq_xsn",
        "outputId": "a484a89d-a346-4415-eae0-93cd463b51e4"
      },
      "source": [
        "for stri in glob.glob(\"/content/*/*.csv\"):\n",
        "  print(stri)\n",
        "  newDf = pd.read_csv(stri)\n",
        "  postMerge = mergedDf.append(newDf, ignore_index=True)\n",
        "postMerge = postMerge.drop_duplicates()\n",
        "postMerge = postMerge.dropna()"
      ],
      "execution_count": 111,
      "outputs": [
        {
          "output_type": "stream",
          "text": [
            "/content/14-07-2020/AITA_day14-07-2020_.csv\n",
            "/content/14-07-2020/AITA_week14-07-2020_.csv\n",
            "/content/14-07-2020/AITA_year14-07-2020_.csv\n",
            "/content/14-07-2020/AITA_month14-07-2020_.csv\n",
            "/content/14-07-2020/AITA_all14-07-2020_.csv\n",
            "/content/09-07-2020/AITA_day09-07-2020_.csv\n",
            "/content/09-07-2020/AITA_all09-07-2020_.csv\n",
            "/content/09-07-2020/AITA_month09-07-2020_.csv\n",
            "/content/09-07-2020/AITA_week09-07-2020_.csv\n",
            "/content/09-07-2020/AITA_year09-07-2020_.csv\n",
            "/content/04-07-2020/AITA_day_month04-07-2020_.csv\n",
            "/content/04-07-2020/AITA_day04-07-2020_.csv\n",
            "/content/04-07-2020/AITA_all04-07-2020_.csv\n",
            "/content/04-07-2020/AITA_week04-07-2020_.csv\n",
            "/content/04-07-2020/AITA_day_week04-07-2020_.csv\n",
            "/content/04-07-2020/AITA_year04-07-2020_.csv\n",
            "/content/04-07-2020/AITA_month04-07-2020_.csv\n",
            "/content/04-07-2020/AITA_day_year04-07-2020_.csv\n",
            "/content/04-07-2020/AITA_day_day04-07-2020_.csv\n",
            "/content/04-07-2020/AITA_day_all04-07-2020_.csv\n",
            "/content/12-07-2020/AITA_month12-07-2020_.csv\n",
            "/content/12-07-2020/AITA_day12-07-2020_.csv\n",
            "/content/12-07-2020/AITA_year12-07-2020_.csv\n",
            "/content/12-07-2020/AITA_all12-07-2020_.csv\n",
            "/content/12-07-2020/AITA_week12-07-2020_.csv\n",
            "/content/08-07-2020/AITA_month08-07-2020_.csv\n",
            "/content/08-07-2020/AITA_week08-07-2020_.csv\n",
            "/content/08-07-2020/AITA_day08-07-2020_.csv\n",
            "/content/08-07-2020/AITA_year08-07-2020_.csv\n",
            "/content/08-07-2020/AITA_all08-07-2020_.csv\n",
            "/content/17-07-2020/AITA_all17-07-2020_.csv\n",
            "/content/17-07-2020/AITA_week17-07-2020_.csv\n",
            "/content/17-07-2020/AITA_month17-07-2020_.csv\n",
            "/content/17-07-2020/AITA_year17-07-2020_.csv\n",
            "/content/17-07-2020/AITA_day17-07-2020_.csv\n",
            "/content/29-06-2020/AITA_day_week29-06-2020_.csv\n",
            "/content/29-06-2020/AITA_day_day29-06-2020_.csv\n",
            "/content/29-06-2020/AITA_day_month29-06-2020_.csv\n",
            "/content/29-06-2020/AITA_day_year29-06-2020_.csv\n",
            "/content/29-06-2020/AITA_day_all29-06-2020_.csv\n",
            "/content/27-06-2020/AITA_day_day27-06-2020_.csv\n",
            "/content/27-06-2020/AITA_day_year27-06-2020_.csv\n",
            "/content/27-06-2020/AITA_day_week27-06-2020_.csv\n",
            "/content/27-06-2020/AITA_day_all27-06-2020_.csv\n",
            "/content/27-06-2020/AITA_day_month27-06-2020_.csv\n",
            "/content/05-07-2020/AITA_month05-07-2020_.csv\n",
            "/content/05-07-2020/AITA_year05-07-2020_.csv\n",
            "/content/05-07-2020/AITA_all05-07-2020_.csv\n",
            "/content/05-07-2020/AITA_day05-07-2020_.csv\n",
            "/content/05-07-2020/AITA_week05-07-2020_.csv\n",
            "/content/15-07-2020/AITA_week15-07-2020_.csv\n",
            "/content/15-07-2020/AITA_all15-07-2020_.csv\n",
            "/content/15-07-2020/AITA_day15-07-2020_.csv\n",
            "/content/15-07-2020/AITA_year15-07-2020_.csv\n",
            "/content/15-07-2020/AITA_month15-07-2020_.csv\n",
            "/content/03-07-2020/AITA_day_month03-07-2020_.csv\n",
            "/content/03-07-2020/AITA_day_day03-07-2020_.csv\n",
            "/content/03-07-2020/AITA_day_year03-07-2020_.csv\n",
            "/content/03-07-2020/AITA_day_week03-07-2020_.csv\n",
            "/content/03-07-2020/AITA_day_all03-07-2020_.csv\n",
            "/content/28-06-2020/AITA_day_all28-06-2020_.csv\n",
            "/content/28-06-2020/AITA_day_year28-06-2020_.csv\n",
            "/content/28-06-2020/AITA_day_week28-06-2020_.csv\n",
            "/content/28-06-2020/AITA_day_day28-06-2020_.csv\n",
            "/content/28-06-2020/AITA_day_month28-06-2020_.csv\n",
            "/content/13-07-2020/AITA_day13-07-2020_.csv\n",
            "/content/13-07-2020/AITA_month13-07-2020_.csv\n",
            "/content/13-07-2020/AITA_all13-07-2020_.csv\n",
            "/content/13-07-2020/AITA_week13-07-2020_.csv\n",
            "/content/13-07-2020/AITA_year13-07-2020_.csv\n",
            "/content/02-07-2020/AITA_day_week02-07-2020_.csv\n",
            "/content/02-07-2020/AITA_day_day02-07-2020_.csv\n",
            "/content/02-07-2020/AITA_day_all02-07-2020_.csv\n",
            "/content/02-07-2020/AITA_day_year02-07-2020_.csv\n",
            "/content/02-07-2020/AITA_day_month02-07-2020_.csv\n",
            "/content/16-07-2020/AITA_day16-07-2020_.csv\n",
            "/content/16-07-2020/AITA_year16-07-2020_.csv\n",
            "/content/16-07-2020/AITA_all16-07-2020_.csv\n",
            "/content/16-07-2020/AITA_month16-07-2020_.csv\n",
            "/content/16-07-2020/AITA_week16-07-2020_.csv\n"
          ],
          "name": "stdout"
        }
      ]
    },
    {
      "cell_type": "code",
      "metadata": {
        "id": "C7H0Zo-aAgb7"
      },
      "source": [
        "postMerge = postMerge[postMerge.flair != \"UPDATE\"]\n",
        "postMerge = postMerge[postMerge.flair != \"META\"]\n",
        "postMerge = postMerge.rename(columns={\"id\":\"orig_id\"})\n"
      ],
      "execution_count": 112,
      "outputs": []
    },
    {
      "cell_type": "code",
      "metadata": {
        "colab": {
          "base_uri": "https://localhost:8080/"
        },
        "id": "b_219iI0ElIv",
        "outputId": "8d025bfe-45f7-4ad6-d1f8-deb22e807f8d"
      },
      "source": [
        "cleanedFile = postMerge[[\"flair\", \"title\", \"body\", \"score\", \"comms_num\", \"timestamp\"]]\n",
        "\n",
        "cleanedFile['flair'].unique()"
      ],
      "execution_count": 113,
      "outputs": [
        {
          "output_type": "execute_result",
          "data": {
            "text/plain": [
              "array(['Asshole', 'Not the A-hole', 'Everyone Sucks', 'No A-holes here',\n",
              "       'Not enough info'], dtype=object)"
            ]
          },
          "metadata": {
            "tags": []
          },
          "execution_count": 113
        }
      ]
    },
    {
      "cell_type": "code",
      "metadata": {
        "id": "yLJA5zl3C2sd"
      },
      "source": [
        "cleanedFile = postMerge[[\"flair\", \"title\", \"body\", \"score\", \"comms_num\", \"timestamp\"]]\n",
        "cleanedFile = cleanedFile.drop_duplicates()\n",
        "cleanedFile = cleanedFile[cleanedFile.flair != \"Not enough info\"]\n",
        "cleanedFile.reset_index(inplace=True)\n",
        "cleanedFile = cleanedFile.rename(columns={\"index\": \"rID\"})\n",
        "cleanedFile['flair'] = cleanedFile['flair'].replace({\"Asshole\": \"YTA\", \"Not the A-hole\": \"NTA\", \"No A-holes here\": \"NAH\", \"Everyone Sucks\": \"ESH\"})"
      ],
      "execution_count": 114,
      "outputs": []
    },
    {
      "cell_type": "code",
      "metadata": {
        "colab": {
          "base_uri": "https://localhost:8080/"
        },
        "id": "5rnIdJ0VFv0d",
        "outputId": "e907714c-cb05-499b-a2f9-9897b3aef176"
      },
      "source": [
        "cleanedFile['flair'].value_counts()"
      ],
      "execution_count": 115,
      "outputs": [
        {
          "output_type": "execute_result",
          "data": {
            "text/plain": [
              "NTA    711\n",
              "YTA    179\n",
              "NAH     48\n",
              "ESH     24\n",
              "Name: flair, dtype: int64"
            ]
          },
          "metadata": {
            "tags": []
          },
          "execution_count": 115
        }
      ]
    },
    {
      "cell_type": "code",
      "metadata": {
        "colab": {
          "base_uri": "https://localhost:8080/",
          "height": 623
        },
        "id": "kPpytWr-C-Eb",
        "outputId": "e7f48ab3-4b6c-4547-f024-a09af744a192"
      },
      "source": [
        "cleanedFile"
      ],
      "execution_count": 116,
      "outputs": [
        {
          "output_type": "execute_result",
          "data": {
            "text/html": [
              "<div>\n",
              "<style scoped>\n",
              "    .dataframe tbody tr th:only-of-type {\n",
              "        vertical-align: middle;\n",
              "    }\n",
              "\n",
              "    .dataframe tbody tr th {\n",
              "        vertical-align: top;\n",
              "    }\n",
              "\n",
              "    .dataframe thead th {\n",
              "        text-align: right;\n",
              "    }\n",
              "</style>\n",
              "<table border=\"1\" class=\"dataframe\">\n",
              "  <thead>\n",
              "    <tr style=\"text-align: right;\">\n",
              "      <th></th>\n",
              "      <th>rID</th>\n",
              "      <th>flair</th>\n",
              "      <th>title</th>\n",
              "      <th>body</th>\n",
              "      <th>score</th>\n",
              "      <th>comms_num</th>\n",
              "      <th>timestamp</th>\n",
              "    </tr>\n",
              "  </thead>\n",
              "  <tbody>\n",
              "    <tr>\n",
              "      <th>0</th>\n",
              "      <td>0</td>\n",
              "      <td>YTA</td>\n",
              "      <td>AITA for not saying anything about the underwear?</td>\n",
              "      <td>My 20 year old daughter and her fiancé are cur...</td>\n",
              "      <td>36183</td>\n",
              "      <td>2062</td>\n",
              "      <td>2020-07-15 15:48:00</td>\n",
              "    </tr>\n",
              "    <tr>\n",
              "      <th>1</th>\n",
              "      <td>1</td>\n",
              "      <td>NTA</td>\n",
              "      <td>AITA for getting mad at my sister for not want...</td>\n",
              "      <td>My sister and her husband invited me over to t...</td>\n",
              "      <td>29435</td>\n",
              "      <td>771</td>\n",
              "      <td>2020-07-12 06:47:52</td>\n",
              "    </tr>\n",
              "    <tr>\n",
              "      <th>2</th>\n",
              "      <td>2</td>\n",
              "      <td>NTA</td>\n",
              "      <td>AITA for giving my wife an ultimatum about get...</td>\n",
              "      <td>I had a dog when my wife and I got married. I ...</td>\n",
              "      <td>27110</td>\n",
              "      <td>2842</td>\n",
              "      <td>2020-07-15 03:05:19</td>\n",
              "    </tr>\n",
              "    <tr>\n",
              "      <th>3</th>\n",
              "      <td>4</td>\n",
              "      <td>NTA</td>\n",
              "      <td>AITA for supporting my wife after my daughter ...</td>\n",
              "      <td>I have been remarried for a year now to my wif...</td>\n",
              "      <td>24155</td>\n",
              "      <td>2673</td>\n",
              "      <td>2020-07-13 15:37:49</td>\n",
              "    </tr>\n",
              "    <tr>\n",
              "      <th>4</th>\n",
              "      <td>5</td>\n",
              "      <td>NTA</td>\n",
              "      <td>AITA for disinviting my brother to my wedding ...</td>\n",
              "      <td>Little backstory: I’ve been out of the closet ...</td>\n",
              "      <td>23315</td>\n",
              "      <td>1370</td>\n",
              "      <td>2020-07-13 21:10:05</td>\n",
              "    </tr>\n",
              "    <tr>\n",
              "      <th>...</th>\n",
              "      <td>...</td>\n",
              "      <td>...</td>\n",
              "      <td>...</td>\n",
              "      <td>...</td>\n",
              "      <td>...</td>\n",
              "      <td>...</td>\n",
              "      <td>...</td>\n",
              "    </tr>\n",
              "    <tr>\n",
              "      <th>957</th>\n",
              "      <td>981</td>\n",
              "      <td>NTA</td>\n",
              "      <td>AITA for not cleaning the toilet?</td>\n",
              "      <td>I(22F) live with my parents(46M, 51F) and my s...</td>\n",
              "      <td>15</td>\n",
              "      <td>30</td>\n",
              "      <td>2020-07-10 00:25:37</td>\n",
              "    </tr>\n",
              "    <tr>\n",
              "      <th>958</th>\n",
              "      <td>982</td>\n",
              "      <td>YTA</td>\n",
              "      <td>AITA for emailing a teacher why I shouldn't ge...</td>\n",
              "      <td>I've been taking a developmental psychology su...</td>\n",
              "      <td>16</td>\n",
              "      <td>26</td>\n",
              "      <td>2020-07-09 19:18:52</td>\n",
              "    </tr>\n",
              "    <tr>\n",
              "      <th>959</th>\n",
              "      <td>983</td>\n",
              "      <td>NTA</td>\n",
              "      <td>AITA for telling my boss and coworkers to stop...</td>\n",
              "      <td>Since context might matter for this, I am 24F ...</td>\n",
              "      <td>16</td>\n",
              "      <td>33</td>\n",
              "      <td>2020-07-09 18:09:22</td>\n",
              "    </tr>\n",
              "    <tr>\n",
              "      <th>960</th>\n",
              "      <td>984</td>\n",
              "      <td>NAH</td>\n",
              "      <td>WIBTA if I didnt include my fiance's friends w...</td>\n",
              "      <td>Edit: I went and made plans to sit in person a...</td>\n",
              "      <td>17</td>\n",
              "      <td>39</td>\n",
              "      <td>2020-07-09 17:47:51</td>\n",
              "    </tr>\n",
              "    <tr>\n",
              "      <th>961</th>\n",
              "      <td>987</td>\n",
              "      <td>NTA</td>\n",
              "      <td>AITA for not working elsewhere while my sister...</td>\n",
              "      <td>I (23f) have always shared a room with my sist...</td>\n",
              "      <td>15</td>\n",
              "      <td>19</td>\n",
              "      <td>2020-07-15 16:39:45</td>\n",
              "    </tr>\n",
              "  </tbody>\n",
              "</table>\n",
              "<p>962 rows × 7 columns</p>\n",
              "</div>"
            ],
            "text/plain": [
              "     rID flair  ... comms_num            timestamp\n",
              "0      0   YTA  ...      2062  2020-07-15 15:48:00\n",
              "1      1   NTA  ...       771  2020-07-12 06:47:52\n",
              "2      2   NTA  ...      2842  2020-07-15 03:05:19\n",
              "3      4   NTA  ...      2673  2020-07-13 15:37:49\n",
              "4      5   NTA  ...      1370  2020-07-13 21:10:05\n",
              "..   ...   ...  ...       ...                  ...\n",
              "957  981   NTA  ...        30  2020-07-10 00:25:37\n",
              "958  982   YTA  ...        26  2020-07-09 19:18:52\n",
              "959  983   NTA  ...        33  2020-07-09 18:09:22\n",
              "960  984   NAH  ...        39  2020-07-09 17:47:51\n",
              "961  987   NTA  ...        19  2020-07-15 16:39:45\n",
              "\n",
              "[962 rows x 7 columns]"
            ]
          },
          "metadata": {
            "tags": []
          },
          "execution_count": 116
        }
      ]
    },
    {
      "cell_type": "code",
      "metadata": {
        "id": "R-pbu09FFQM1"
      },
      "source": [
        "cleanedFile.to_csv(\"cleanedDatasetPRAW.csv\")"
      ],
      "execution_count": 117,
      "outputs": []
    }
  ]
}